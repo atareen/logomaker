{
 "cells": [
  {
   "cell_type": "code",
   "execution_count": 1,
   "metadata": {
    "collapsed": false
   },
   "outputs": [],
   "source": [
    "from __future__ import division\n",
    "import numpy as np\n",
    "import scipy as sp\n",
    "import matplotlib.pyplot as plt\n",
    "import pandas as pd\n",
    "import matplotlib as mpl\n",
    "\n",
    "# Import LogoMaker\n",
    "import logomaker\n",
    "\n",
    "%matplotlib inline\n",
    "plt.ion()"
   ]
  },
  {
   "cell_type": "code",
   "execution_count": 2,
   "metadata": {
    "collapsed": false
   },
   "outputs": [],
   "source": [
    "# Load CRP sequences used by WebLogo\n",
    "matrix = logomaker.load_alignment(fasta_file='data/weblogo/cap.fa',sequence_type='DNA')\n",
    "\n",
    "# Set default style\n",
    "style_dict = {\n",
    "    'colors': 'classic',\n",
    "    'font_family': 'Arial Rounded MT Bold',\n",
    "    'logo_type': 'probability',\n",
    "    'show_baseline': True,\n",
    "    'baseline_color':'k',\n",
    "    'baseline_width':.5,\n",
    "    'width':.9,\n",
    "    'figsize':[8,2],\n",
    "    'use_tightlayout':False,\n",
    "}"
   ]
  },
  {
   "cell_type": "code",
   "execution_count": 3,
   "metadata": {
    "collapsed": false
   },
   "outputs": [],
   "source": [
    "parameters_dict = {\n",
    "    'axes_type': ['classic', 'everything', 'rails', 'naked'],\n",
    "    'logo_type': ['counts', 'probability', 'information', 'enrichment'],\n",
    "    'use_transparency': [True, False],\n",
    "    'stack_order': ['big_on_top', 'small_on_top', 'fixed'],\n",
    "    'enrichment_centering':[True, False],\n",
    "    'colors':['classic', 'grays', 'base_pairing', 'k', 'gist_rainbow', 'random'],\n",
    "    'below_flip':[True, False],\n",
    "    'below_shade':[1., .8, .5],\n",
    "    'below_alpha':[1., .8, .5],\n",
    "    'show_baseline':[True, False],\n",
    "    'font_family': [ 'Arial',\n",
    "                     'Arial Rounded MT Bold',\n",
    "                     'Bradley Hand',\n",
    "                     'Brush Script Std',\n",
    "                     'Chalkduster',\n",
    "                     'Charlemagne Std',\n",
    "                     'Comic Sans MS',\n",
    "                     'Cooper Std',\n",
    "                     'Courier New',\n",
    "                     'Gabriola',\n",
    "                     'Giddyup Std',\n",
    "                     'Herculanum',\n",
    "                     'Hobo Std',\n",
    "                     'Impact',\n",
    "                     'Lithos Pro',\n",
    "                     'Luminari',\n",
    "                     'Luxi Mono',\n",
    "                     'Mesquite Std',\n",
    "                     'Nueva Std',\n",
    "                     'OCR A Std',\n",
    "                     'Perpetua',\n",
    "                     'Plantagenet Cherokee',\n",
    "                     'Poplar Std',\n",
    "                     'Prestige Elite Std',\n",
    "                     'Rosewood Std',\n",
    "                     'Serto Jerusalem Outline',\n",
    "                     'Silom',\n",
    "                     'Skia',\n",
    "                     'Stencil Std',\n",
    "                     'Tekton Pro',\n",
    "                     'Times New Roman',\n",
    "                     'Trattatello',\n",
    "                     'Zapfino']\n",
    "}"
   ]
  },
  {
   "cell_type": "code",
   "execution_count": 4,
   "metadata": {
    "collapsed": true
   },
   "outputs": [],
   "source": [
    "style_adjustment_dict = {\n",
    "    'font_family':{'axes_type':'naked'},\n",
    "    'colors':{'axes_type':'naked'},\n",
    "    'axes_type':{'use_tightlayout':False},\n",
    "    'use_transparency':{'axes_type':'rails'},\n",
    "    'stack_order':{'axes_type':'rails'},\n",
    "    'enrichment_centering':{'logo_type':'enrichment'},\n",
    "    'below_flip':{'logo_type':'enrichment'},\n",
    "    'below_shade':{'logo_type':'enrichment'},\n",
    "    'below_alpha':{'logo_type':'enrichment'},\n",
    "    'show_baseline':{'logo_type':'enrichment'},\n",
    "}"
   ]
  },
  {
   "cell_type": "code",
   "execution_count": 5,
   "metadata": {
    "collapsed": false
   },
   "outputs": [
    {
     "name": "stdout",
     "output_type": "stream",
     "text": [
      "Writing examples/use_transparency/True.png...\n",
      "Writing examples/use_transparency/False.png...\n",
      "Writing examples/axes_type/classic.png...\n",
      "Writing examples/axes_type/everything.png...\n",
      "Writing examples/axes_type/rails.png...\n",
      "Writing examples/axes_type/naked.png...\n",
      "Writing examples/colors/classic.png...\n",
      "Writing examples/colors/grays.png...\n",
      "Writing examples/colors/base_pairing.png...\n",
      "Writing examples/colors/k.png...\n",
      "Writing examples/colors/gist_rainbow.png...\n",
      "Writing examples/colors/random.png...\n",
      "Writing examples/stack_order/big_on_top.png...\n",
      "Writing examples/stack_order/small_on_top.png...\n",
      "Writing examples/stack_order/fixed.png...\n",
      "Writing examples/logo_type/counts.png...\n",
      "Writing examples/logo_type/probability.png...\n",
      "Writing examples/logo_type/information.png...\n",
      "Writing examples/logo_type/enrichment.png...\n",
      "Writing examples/below_flip/True.png...\n",
      "Writing examples/below_flip/False.png...\n",
      "Writing examples/show_baseline/True.png...\n",
      "Writing examples/show_baseline/False.png...\n",
      "Writing examples/enrichment_centering/True.png...\n",
      "Writing examples/enrichment_centering/False.png...\n",
      "Writing examples/below_alpha/1.0.png...\n",
      "Writing examples/below_alpha/0.8.png...\n",
      "Writing examples/below_alpha/0.5.png...\n",
      "Writing examples/font_family/Arial.png...\n",
      "Writing examples/font_family/Arial_Rounded_MT_Bold.png...\n",
      "Writing examples/font_family/Bradley_Hand.png...\n",
      "Writing examples/font_family/Brush_Script_Std.png...\n",
      "Writing examples/font_family/Chalkduster.png...\n",
      "Writing examples/font_family/Charlemagne_Std.png...\n",
      "Writing examples/font_family/Comic_Sans_MS.png...\n",
      "Writing examples/font_family/Cooper_Std.png...\n",
      "Writing examples/font_family/Courier_New.png...\n",
      "Writing examples/font_family/Gabriola.png...\n",
      "Writing examples/font_family/Giddyup_Std.png...\n",
      "Writing examples/font_family/Herculanum.png...\n",
      "Writing examples/font_family/Hobo_Std.png...\n",
      "Writing examples/font_family/Impact.png...\n",
      "Writing examples/font_family/Lithos_Pro.png...\n",
      "Writing examples/font_family/Luminari.png...\n",
      "Writing examples/font_family/Luxi_Mono.png...\n",
      "Writing examples/font_family/Mesquite_Std.png...\n",
      "Writing examples/font_family/Nueva_Std.png...\n",
      "Writing examples/font_family/OCR_A_Std.png...\n",
      "Writing examples/font_family/Perpetua.png...\n",
      "Writing examples/font_family/Plantagenet_Cherokee.png...\n",
      "Writing examples/font_family/Poplar_Std.png...\n",
      "Writing examples/font_family/Prestige_Elite_Std.png...\n",
      "Writing examples/font_family/Rosewood_Std.png...\n",
      "Writing examples/font_family/Serto_Jerusalem_Outline.png...\n",
      "Writing examples/font_family/Silom.png...\n",
      "Writing examples/font_family/Skia.png...\n",
      "Writing examples/font_family/Stencil_Std.png...\n",
      "Writing examples/font_family/Tekton_Pro.png...\n",
      "Writing examples/font_family/Times_New_Roman.png...\n",
      "Writing examples/font_family/Trattatello.png...\n",
      "Writing examples/font_family/Zapfino.png...\n",
      "Writing examples/below_shade/1.0.png...\n",
      "Writing examples/below_shade/0.8.png...\n",
      "Writing examples/below_shade/0.5.png...\n"
     ]
    }
   ],
   "source": [
    "import os\n",
    "import shutil\n",
    "\n",
    "# Clean examples directory\n",
    "examples_dir = 'examples'\n",
    "try:\n",
    "    shutil.rmtree(examples_dir)\n",
    "except:\n",
    "    pass\n",
    "os.mkdir(examples_dir)\n",
    "\n",
    "# Iterate over names of parameters to illustrate\n",
    "for name in parameters_dict:\n",
    "    \n",
    "    # Set and make directory for output\n",
    "    directory = '%s/%s'%(examples_dir,name)\n",
    "    os.mkdir(directory)\n",
    "    \n",
    "    # Adjust style dictionary for parameter of interest\n",
    "    this_style_dict = style_dict.copy()\n",
    "    if name in style_adjustment_dict:\n",
    "        for key, val in style_adjustment_dict[name].items():\n",
    "            this_style_dict[key] = val\n",
    "    \n",
    "    # Iterate over possible values for parameter\n",
    "    for value in parameters_dict[name]:\n",
    "        \n",
    "        # Set parameter value in style dictionary\n",
    "        this_style_dict[name]=value\n",
    "        \n",
    "        # Set file name for saving logo\n",
    "        file_name = ('%s/%s.png' % (directory,str(value))).replace(' ','_')\n",
    "        \n",
    "        # Make logo\n",
    "        print('Writing %s...'%file_name)\n",
    "        logo = logomaker.make_styled_logo(style_dict=this_style_dict, \n",
    "                                          matrix=matrix, \n",
    "                                          title=\"%s=%s\" % (name,repr(value)),\n",
    "                                          save_to_file=file_name)\n",
    "        # Needed to minimize memory usage\n",
    "        plt.close()"
   ]
  },
  {
   "cell_type": "code",
   "execution_count": 6,
   "metadata": {
    "collapsed": true
   },
   "outputs": [],
   "source": [
    "user = \"random\"\n",
    "assert user in [\"none\", \"random\"]"
   ]
  },
  {
   "cell_type": "code",
   "execution_count": null,
   "metadata": {
    "collapsed": true
   },
   "outputs": [],
   "source": []
  }
 ],
 "metadata": {
  "kernelspec": {
   "display_name": "Python 2",
   "language": "python",
   "name": "python2"
  },
  "language_info": {
   "codemirror_mode": {
    "name": "ipython",
    "version": 2
   },
   "file_extension": ".py",
   "mimetype": "text/x-python",
   "name": "python",
   "nbconvert_exporter": "python",
   "pygments_lexer": "ipython2",
   "version": "2.7.11"
  }
 },
 "nbformat": 4,
 "nbformat_minor": 0
}
