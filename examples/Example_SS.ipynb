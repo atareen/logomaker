{
 "cells": [
  {
   "cell_type": "code",
   "execution_count": 1,
   "metadata": {
    "collapsed": true
   },
   "outputs": [],
   "source": [
    "import numpy as np\n",
    "import pandas as pd\n",
    "import matplotlib.pyplot as plt\n",
    "% matplotlib inline\n",
    "plt.ion()\n",
    "\n",
    "import sys\n",
    "sys.path.append('/Users/jkinney/github/')\n",
    "import logomaker"
   ]
  },
  {
   "cell_type": "code",
   "execution_count": 2,
   "metadata": {},
   "outputs": [
    {
     "data": {
      "text/html": [
       "<div>\n",
       "<style scoped>\n",
       "    .dataframe tbody tr th:only-of-type {\n",
       "        vertical-align: middle;\n",
       "    }\n",
       "\n",
       "    .dataframe tbody tr th {\n",
       "        vertical-align: top;\n",
       "    }\n",
       "\n",
       "    .dataframe thead th {\n",
       "        text-align: right;\n",
       "    }\n",
       "</style>\n",
       "<table border=\"1\" class=\"dataframe\">\n",
       "  <thead>\n",
       "    <tr style=\"text-align: right;\">\n",
       "      <th></th>\n",
       "      <th>chrom</th>\n",
       "      <th>start</th>\n",
       "      <th>stop</th>\n",
       "      <th>strand</th>\n",
       "      <th>transcript</th>\n",
       "      <th>exon_num</th>\n",
       "      <th>exons_in_trx</th>\n",
       "      <th>ss3_start</th>\n",
       "      <th>ss3_stop</th>\n",
       "      <th>ss3_seq</th>\n",
       "      <th>ss5_start</th>\n",
       "      <th>ss5_stop</th>\n",
       "      <th>ss5_seq</th>\n",
       "    </tr>\n",
       "  </thead>\n",
       "  <tbody>\n",
       "    <tr>\n",
       "      <th>0</th>\n",
       "      <td>chr1</td>\n",
       "      <td>34553</td>\n",
       "      <td>35174</td>\n",
       "      <td>-</td>\n",
       "      <td>uc001aak.4</td>\n",
       "      <td>0</td>\n",
       "      <td>3</td>\n",
       "      <td>-1</td>\n",
       "      <td>-1</td>\n",
       "      <td>------------------------------</td>\n",
       "      <td>34556</td>\n",
       "      <td>34547</td>\n",
       "      <td>GCTTCATGT</td>\n",
       "    </tr>\n",
       "    <tr>\n",
       "      <th>1</th>\n",
       "      <td>chr1</td>\n",
       "      <td>35276</td>\n",
       "      <td>35481</td>\n",
       "      <td>-</td>\n",
       "      <td>uc001aak.4</td>\n",
       "      <td>1</td>\n",
       "      <td>3</td>\n",
       "      <td>35511</td>\n",
       "      <td>35481</td>\n",
       "      <td>TGTTTTTATTTATTTATTTATTTTTTATAG</td>\n",
       "      <td>35279</td>\n",
       "      <td>35270</td>\n",
       "      <td>CTTGTAAGT</td>\n",
       "    </tr>\n",
       "    <tr>\n",
       "      <th>2</th>\n",
       "      <td>chr1</td>\n",
       "      <td>35720</td>\n",
       "      <td>36081</td>\n",
       "      <td>-</td>\n",
       "      <td>uc001aak.4</td>\n",
       "      <td>2</td>\n",
       "      <td>3</td>\n",
       "      <td>36111</td>\n",
       "      <td>36081</td>\n",
       "      <td>GATTAGTCCTGCTGCCCTGTGCCCAGCTCC</td>\n",
       "      <td>-1</td>\n",
       "      <td>-1</td>\n",
       "      <td>---------</td>\n",
       "    </tr>\n",
       "    <tr>\n",
       "      <th>3</th>\n",
       "      <td>chr1</td>\n",
       "      <td>497239</td>\n",
       "      <td>497299</td>\n",
       "      <td>-</td>\n",
       "      <td>uc001aaq.3</td>\n",
       "      <td>0</td>\n",
       "      <td>4</td>\n",
       "      <td>-1</td>\n",
       "      <td>-1</td>\n",
       "      <td>------------------------------</td>\n",
       "      <td>497242</td>\n",
       "      <td>497233</td>\n",
       "      <td>CCTCAACCT</td>\n",
       "    </tr>\n",
       "    <tr>\n",
       "      <th>4</th>\n",
       "      <td>chr1</td>\n",
       "      <td>498046</td>\n",
       "      <td>498305</td>\n",
       "      <td>-</td>\n",
       "      <td>uc001aaq.3</td>\n",
       "      <td>1</td>\n",
       "      <td>4</td>\n",
       "      <td>498335</td>\n",
       "      <td>498305</td>\n",
       "      <td>ATGCAAATGTGCTTACATCTTTTGGCCCAG</td>\n",
       "      <td>498049</td>\n",
       "      <td>498040</td>\n",
       "      <td>TAGGTATAC</td>\n",
       "    </tr>\n",
       "  </tbody>\n",
       "</table>\n",
       "</div>"
      ],
      "text/plain": [
       "  chrom   start    stop strand  transcript  exon_num  exons_in_trx  ss3_start  \\\n",
       "0  chr1   34553   35174      -  uc001aak.4         0             3         -1   \n",
       "1  chr1   35276   35481      -  uc001aak.4         1             3      35511   \n",
       "2  chr1   35720   36081      -  uc001aak.4         2             3      36111   \n",
       "3  chr1  497239  497299      -  uc001aaq.3         0             4         -1   \n",
       "4  chr1  498046  498305      -  uc001aaq.3         1             4     498335   \n",
       "\n",
       "   ss3_stop                         ss3_seq  ss5_start  ss5_stop    ss5_seq  \n",
       "0        -1  ------------------------------      34556     34547  GCTTCATGT  \n",
       "1     35481  TGTTTTTATTTATTTATTTATTTTTTATAG      35279     35270  CTTGTAAGT  \n",
       "2     36081  GATTAGTCCTGCTGCCCTGTGCCCAGCTCC         -1        -1  ---------  \n",
       "3        -1  ------------------------------     497242    497233  CCTCAACCT  \n",
       "4    498305  ATGCAAATGTGCTTACATCTTTTGGCCCAG     498049    498040  TAGGTATAC  "
      ]
     },
     "execution_count": 2,
     "metadata": {},
     "output_type": "execute_result"
    }
   ],
   "source": [
    "# Load all splice sites\n",
    "df = pd.read_csv('hg38_sss.txt', sep='\\t', index_col=0)\n",
    "df.head()"
   ]
  },
  {
   "cell_type": "code",
   "execution_count": 3,
   "metadata": {},
   "outputs": [],
   "source": [
    "# Get 5' splice sites\n",
    "seqs = df['ss5_seq'].copy()\n",
    "indices = [s[3]=='G' and s[4] in 'TC' for s in seqs]\n",
    "seqs = seqs[indices]\n",
    "\n",
    "# Get prob matrix\n",
    "prob5_df = logomaker.alignment_to_matrix(seqs, to_type='probability', pseudocount=0)"
   ]
  },
  {
   "cell_type": "code",
   "execution_count": 4,
   "metadata": {},
   "outputs": [
    {
     "name": "stdout",
     "output_type": "stream",
     "text": [
      "Done! Output written to Example_SS5.pdf.\n"
     ]
    },
    {
     "data": {
      "image/png": "[encoded data removed]",
      "text/plain": [
       "<matplotlib.figure.Figure at 0x10c9eceb8>"
      ]
     },
     "metadata": {},
     "output_type": "display_data"
    }
   ],
   "source": [
    "fig, ax = plt.subplots(figsize=[3.5,1.5])\n",
    "\n",
    "# Create counts matrix\n",
    "logo = logomaker.Logo(prob5_df, \n",
    "                      ax=ax,\n",
    "                      vpad=.05,\n",
    "                      width=.9,\n",
    "                      font_name='Arial Rounded MT Bold')\n",
    "\n",
    "# Style axes\n",
    "logo.style_spines(visible=False)\n",
    "#logo.style_spines(spines=['top','bottom'], linewidth=2)\n",
    "logo.fade_glyphs_in_probability_logo()\n",
    "logo.draw()\n",
    "\n",
    "xticklabels = ['%+d'%x for x in [-3,-2,-1,1,2,3,4,5,6]]\n",
    "ax.set_xticks(prob5_df.index)\n",
    "ax.set_xticklabels(xticklabels, rotation=90)\n",
    "ax.set_yticks([])\n",
    "ax.axvline(x=2.5, color='k', linewidth=.5)\n",
    "ax.xaxis.set_tick_params(length=0)\n",
    "\n",
    "# Tight layout\n",
    "plt.tight_layout()\n",
    "\n",
    "# Save as pdf\n",
    "out_file = 'Example_SS5.pdf'\n",
    "fig.savefig(out_file)\n",
    "print('Done! Output written to %s.'%out_file)"
   ]
  },
  {
   "cell_type": "code",
   "execution_count": 5,
   "metadata": {},
   "outputs": [
    {
     "data": {
      "text/plain": [
       "Int64Index([0, 1, 2, 3, 4, 5, 6, 7, 8], dtype='int64')"
      ]
     },
     "execution_count": 5,
     "metadata": {},
     "output_type": "execute_result"
    }
   ],
   "source": [
    "prob5_df.index"
   ]
  },
  {
   "cell_type": "code",
   "execution_count": 6,
   "metadata": {},
   "outputs": [
    {
     "data": {
      "text/html": [
       "<div>\n",
       "<style scoped>\n",
       "    .dataframe tbody tr th:only-of-type {\n",
       "        vertical-align: middle;\n",
       "    }\n",
       "\n",
       "    .dataframe tbody tr th {\n",
       "        vertical-align: top;\n",
       "    }\n",
       "\n",
       "    .dataframe thead th {\n",
       "        text-align: right;\n",
       "    }\n",
       "</style>\n",
       "<table border=\"1\" class=\"dataframe\">\n",
       "  <thead>\n",
       "    <tr style=\"text-align: right;\">\n",
       "      <th></th>\n",
       "      <th>A</th>\n",
       "      <th>C</th>\n",
       "      <th>G</th>\n",
       "      <th>T</th>\n",
       "    </tr>\n",
       "  </thead>\n",
       "  <tbody>\n",
       "    <tr>\n",
       "      <th>0</th>\n",
       "      <td>0.245443</td>\n",
       "      <td>0.240623</td>\n",
       "      <td>0.188187</td>\n",
       "      <td>0.325746</td>\n",
       "    </tr>\n",
       "    <tr>\n",
       "      <th>1</th>\n",
       "      <td>0.249706</td>\n",
       "      <td>0.239711</td>\n",
       "      <td>0.181164</td>\n",
       "      <td>0.329420</td>\n",
       "    </tr>\n",
       "    <tr>\n",
       "      <th>2</th>\n",
       "      <td>0.249406</td>\n",
       "      <td>0.240562</td>\n",
       "      <td>0.176483</td>\n",
       "      <td>0.333549</td>\n",
       "    </tr>\n",
       "    <tr>\n",
       "      <th>3</th>\n",
       "      <td>0.250618</td>\n",
       "      <td>0.243258</td>\n",
       "      <td>0.171806</td>\n",
       "      <td>0.334318</td>\n",
       "    </tr>\n",
       "    <tr>\n",
       "      <th>4</th>\n",
       "      <td>0.246774</td>\n",
       "      <td>0.244170</td>\n",
       "      <td>0.165835</td>\n",
       "      <td>0.343220</td>\n",
       "    </tr>\n",
       "  </tbody>\n",
       "</table>\n",
       "</div>"
      ],
      "text/plain": [
       "          A         C         G         T\n",
       "0  0.245443  0.240623  0.188187  0.325746\n",
       "1  0.249706  0.239711  0.181164  0.329420\n",
       "2  0.249406  0.240562  0.176483  0.333549\n",
       "3  0.250618  0.243258  0.171806  0.334318\n",
       "4  0.246774  0.244170  0.165835  0.343220"
      ]
     },
     "execution_count": 6,
     "metadata": {},
     "output_type": "execute_result"
    }
   ],
   "source": [
    "# Get 3' splice sites\n",
    "seqs = df['ss3_seq'].copy()\n",
    "indices = [s[-2:] in 'AG' for s in seqs]\n",
    "seqs = seqs[indices]\n",
    "\n",
    "# Get prob matrix\n",
    "prob3_df = logomaker.alignment_to_matrix(seqs, to_type='probability', pseudocount=0)\n",
    "prob3_df.head()"
   ]
  },
  {
   "cell_type": "code",
   "execution_count": 7,
   "metadata": {},
   "outputs": [
    {
     "name": "stdout",
     "output_type": "stream",
     "text": [
      "Done! Output written to Example_SS3.pdf.\n"
     ]
    },
    {
     "data": {
      "image/png": "[encoded data removed]",
      "text/plain": [
       "<matplotlib.figure.Figure at 0x10c94ca20>"
      ]
     },
     "metadata": {},
     "output_type": "display_data"
    }
   ],
   "source": [
    "fig, ax = plt.subplots(figsize=[6.5,1.5])\n",
    "\n",
    "# Create counts matrix\n",
    "logo = logomaker.Logo(prob3_df, \n",
    "                      ax=ax,\n",
    "                      vpad=.05,\n",
    "                      font_name='Arial Rounded MT Bold')\n",
    "\n",
    "# Style axes\n",
    "logo.style_spines(visible=False)\n",
    "logo.style_spines(spines=['top','bottom'], linewidth=2)\n",
    "logo.fade_glyphs_in_probability_logo()\n",
    "\n",
    "xticklabels = ['%+d'%(x-len(prob3_df)) for x in prob3_df.index]\n",
    "ax.set_xticks(prob3_df.index)\n",
    "ax.set_xticklabels(xticklabels, rotation=90)\n",
    "\n",
    "#ax.set_xticks([])\n",
    "ax.set_yticks([])\n",
    "\n",
    "# Tight layout\n",
    "plt.tight_layout()\n",
    "\n",
    "# Save as pdf\n",
    "out_file = 'Example_SS3.pdf'\n",
    "fig.savefig(out_file)\n",
    "print('Done! Output written to %s.'%out_file)"
   ]
  },
  {
   "cell_type": "markdown",
   "metadata": {},
   "source": []
  }
 ],
 "metadata": {
  "kernelspec": {
   "display_name": "anaconda_kernel",
   "language": "python",
   "name": "anaconda_kernel"
  },
  "language_info": {
   "codemirror_mode": {
    "name": "ipython",
    "version": 3
   },
   "file_extension": ".py",
   "mimetype": "text/x-python",
   "name": "python",
   "nbconvert_exporter": "python",
   "pygments_lexer": "ipython3",
   "version": "3.6.3"
  }
 },
 "nbformat": 4,
 "nbformat_minor": 2
}
