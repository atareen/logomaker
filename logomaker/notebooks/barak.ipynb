{
 "cells": [
  {
   "cell_type": "code",
   "execution_count": 5,
   "metadata": {
    "collapsed": false
   },
   "outputs": [],
   "source": [
    "from __future__ import division\n",
    "import numpy as np\n",
    "import scipy as sp\n",
    "import matplotlib.pyplot as plt\n",
    "import pandas as pd\n",
    "\n",
    "# Import LogoMaker\n",
    "import sys\n",
    "sys.path.append('../')\n",
    "import logomaker\n",
    "import inspect\n",
    "\n",
    "%matplotlib inline\n",
    "plt.ion()"
   ]
  },
  {
   "cell_type": "code",
   "execution_count": 6,
   "metadata": {
    "collapsed": false
   },
   "outputs": [
    {
     "data": {
      "text/plain": [
       "172"
      ]
     },
     "execution_count": 6,
     "metadata": {},
     "output_type": "execute_result"
    }
   ],
   "source": [
    "param_dict = logomaker.documentation_parser.parse_documentation_file('make_logo_arguments.txt')\n",
    "param_pairs = [(val.param_num, val.section, val.name,val.description) for val in param_dict.values()]\n",
    "len(param_pairs)"
   ]
  },
  {
   "cell_type": "code",
   "execution_count": 10,
   "metadata": {
    "collapsed": false
   },
   "outputs": [
    {
     "data": {
      "text/plain": [
       "172"
      ]
     },
     "execution_count": 10,
     "metadata": {},
     "output_type": "execute_result"
    }
   ],
   "source": [
    "default_values = inspect.getargspec(logomaker.make_logo)\n",
    "len(default_values.args)"
   ]
  },
  {
   "cell_type": "code",
   "execution_count": null,
   "metadata": {
    "collapsed": false
   },
   "outputs": [],
   "source": [
    "# Load counts matrix from files\n",
    "df_wt = pd.read_csv('data/full-wt-formatted.txt', delim_whitespace=True)\n",
    "counts_wt_mat = logomaker.load_alignment(sequences=df_wt['seq'], sequence_counts=df_wt['ct_9'])\n",
    "bg_mat = logomaker.load_alignment(sequences=df_wt['seq'], sequence_counts=df_wt['ct_0'])\n",
    "enrichment_mat = np.log2(counts_wt_mat/bg_mat)"
   ]
  },
  {
   "cell_type": "code",
   "execution_count": null,
   "metadata": {
    "collapsed": false
   },
   "outputs": [],
   "source": [
    "# Make logos\n",
    "logomaker.make_logo(matrix=enrichment_mat,\n",
    "                    center_columns=True, \n",
    "                    character_colors='gray', \n",
    "                    highlight_sequence='AATTAATGTGAGTTAGCTCACTCATTAGGCACCCCAGGCTTTACACTTTATGCTTCCGGCTCGTATGTTGTGTGG', \n",
    "                    highlight_colors='tomato', \n",
    "                    axes_type='vlines', \n",
    "                    shift_first_position_to=-75,\n",
    "                    xtick_spacing=5,\n",
    "                    #show_scalebar=True,\n",
    "                    #left_spine=True,\n",
    "                    scalebar_text='2-fold',\n",
    "                    max_positions_per_line=75,\n",
    "                    figsize=[12,2],\n",
    "                    save_to_file='')"
   ]
  },
  {
   "cell_type": "code",
   "execution_count": null,
   "metadata": {
    "collapsed": true
   },
   "outputs": [],
   "source": [
    "logomaker.make_logo(max)"
   ]
  },
  {
   "cell_type": "code",
   "execution_count": null,
   "metadata": {
    "collapsed": true
   },
   "outputs": [],
   "source": []
  }
 ],
 "metadata": {
  "kernelspec": {
   "display_name": "Python 2",
   "language": "python",
   "name": "python2"
  },
  "language_info": {
   "codemirror_mode": {
    "name": "ipython",
    "version": 2
   },
   "file_extension": ".py",
   "mimetype": "text/x-python",
   "name": "python",
   "nbconvert_exporter": "python",
   "pygments_lexer": "ipython2",
   "version": "2.7.11"
  }
 },
 "nbformat": 4,
 "nbformat_minor": 0
}
