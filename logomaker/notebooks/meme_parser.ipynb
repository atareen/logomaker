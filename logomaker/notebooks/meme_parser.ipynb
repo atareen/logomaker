{
 "cells": [
  {
   "cell_type": "code",
   "execution_count": 1,
   "metadata": {
    "collapsed": true
   },
   "outputs": [],
   "source": [
    "from __future__ import division\n",
    "import numpy as np\n",
    "import scipy as sp\n",
    "import matplotlib.pyplot as plt\n",
    "import pandas as pd\n",
    "import matplotlib as mpl\n",
    "\n",
    "%matplotlib inline\n",
    "plt.ion()"
   ]
  },
  {
   "cell_type": "code",
   "execution_count": 2,
   "metadata": {
    "collapsed": true
   },
   "outputs": [],
   "source": [
    "import re"
   ]
  },
  {
   "cell_type": "code",
   "execution_count": 22,
   "metadata": {
    "collapsed": false
   },
   "outputs": [
    {
     "name": "stdout",
     "output_type": "stream",
     "text": [
      "MEME version 4\n",
      "\n",
      "ALPHABET= ACGT\n",
      "\n",
      "strands: + -\n",
      "\n",
      "Background letter frequencies\n",
      "A 0.303 C 0.183 G 0.209 T 0.306 \n",
      "\n",
      "MOTIF crp\n",
      "letter-probability matrix: alength= 4 w= 19 nsites= 17 E= 4.1e-009 \n",
      " 0.000000  0.176471  0.000000  0.823529 \n",
      " 0.000000  0.058824  0.647059  0.294118 \n",
      " 0.000000  0.058824  0.000000  0.941176 \n",
      " 0.176471  0.000000  0.764706  0.058824 \n",
      " 0.823529  0.058824  0.000000  0.117647 \n",
      " 0.294118  0.176471  0.176471  0.352941 \n",
      " 0.294118  0.352941  0.235294  0.117647 \n",
      " 0.117647  0.235294  0.352941  0.294118 \n",
      " 0.529412  0.000000  0.176471  0.294118 \n",
      " 0.058824  0.235294  0.588235  0.117647 \n",
      " 0.176471  0.235294  0.294118  0.294118 \n",
      " 0.000000  0.058824  0.117647  0.823529 \n",
      " 0.058824  0.882353  0.000000  0.058824 \n",
      " 0.764706  0.000000  0.176471  0.058824 \n",
      " 0.058824  0.882353  0.000000  0.058824 \n",
      " 0.823529  0.058824  0.058824  0.058824 \n",
      " 0.176471  0.411765  0.058824  0.352941 \n",
      " 0.411765  0.000000  0.000000  0.588235 \n",
      " 0.352941  0.058824  0.000000  0.588235 \n",
      "\n",
      "MOTIF lexA\n",
      "letter-probability matrix: alength= 4 w= 18 nsites= 14 E= 3.2e-035 \n",
      " 0.214286  0.000000  0.000000  0.785714 \n",
      " 0.857143  0.000000  0.071429  0.071429 \n",
      " 0.000000  1.000000  0.000000  0.000000 \n",
      " 0.000000  0.000000  0.000000  1.000000 \n",
      " 0.000000  0.000000  1.000000  0.000000 \n",
      " 0.000000  0.000000  0.000000  1.000000 \n",
      " 0.857143  0.000000  0.071429  0.071429 \n",
      " 0.000000  0.071429  0.000000  0.928571 \n",
      " 0.857143  0.000000  0.071429  0.071429 \n",
      " 0.142857  0.000000  0.000000  0.857143 \n",
      " 0.571429  0.071429  0.214286  0.142857 \n",
      " 0.285714  0.285714  0.000000  0.428571 \n",
      " 1.000000  0.000000  0.000000  0.000000 \n",
      " 0.285714  0.214286  0.000000  0.500000 \n",
      " 0.428571  0.500000  0.000000  0.071429 \n",
      " 0.000000  1.000000  0.000000  0.000000 \n",
      " 1.000000  0.000000  0.000000  0.000000 \n",
      " 0.000000  0.000000  0.785714  0.214286 \n",
      "\n",
      "\n"
     ]
    }
   ],
   "source": [
    "file_name = 'data/meme_example.txt'\n",
    "file_contents = open(file_name).read()\n",
    "print file_contents"
   ]
  },
  {
   "cell_type": "code",
   "execution_count": 206,
   "metadata": {
    "collapsed": false
   },
   "outputs": [
    {
     "name": "stdout",
     "output_type": "stream",
     "text": [
      "['A\\nC\\nG\\nU\\nN = ACGU\\n']\n"
     ]
    }
   ],
   "source": [
    "x = \"\"\"\n",
    "\n",
    "ALPHABET \"Basic RNA\" RNA-LIKE\n",
    "A\n",
    "C\n",
    "G\n",
    "U\n",
    "N = ACGU\n",
    "END ALPHABET\n",
    "\n",
    "OTHER STUFF\n",
    "\"\"\"\n",
    "meme_alphabet = re.compile('ALPHABET.*\\n(?P<alphabet>(?:.*\\n)+)END ALPHABET', re.MULTILINE)\n",
    "matches = re.findall(meme_alphabet, x)\n",
    "print matches\n"
   ]
  },
  {
   "cell_type": "code",
   "execution_count": 204,
   "metadata": {
    "collapsed": false
   },
   "outputs": [
    {
     "name": "stdout",
     "output_type": "stream",
     "text": [
      "['ACGT']\n"
     ]
    }
   ],
   "source": [
    "meme_alphabet = re.compile('ALPHABET\\s*=\\s*(?P<alphabet>\\S+)',\n",
    "    flags=re.MULTILINE)\n",
    "matches = re.findall(meme_header, file_contents)\n",
    "print matches"
   ]
  },
  {
   "cell_type": "code",
   "execution_count": 205,
   "metadata": {
    "collapsed": false
   },
   "outputs": [
    {
     "name": "stdout",
     "output_type": "stream",
     "text": [
      "[('crp', '4', '19', '\\n 0.000000  0.176471  0.000000  0.823529 \\n 0.000000  0.058824  0.647059  0.294118 \\n 0.000000  0.058824  0.000000  0.941176 \\n 0.176471  0.000000  0.764706  0.058824 \\n 0.823529  0.058824  0.000000  0.117647 \\n 0.294118  0.176471  0.176471  0.352941 \\n 0.294118  0.352941  0.235294  0.117647 \\n 0.117647  0.235294  0.352941  0.294118 \\n 0.529412  0.000000  0.176471  0.294118 \\n 0.058824  0.235294  0.588235  0.117647 \\n 0.176471  0.235294  0.294118  0.294118 \\n 0.000000  0.058824  0.117647  0.823529 \\n 0.058824  0.882353  0.000000  0.058824 \\n 0.764706  0.000000  0.176471  0.058824 \\n 0.058824  0.882353  0.000000  0.058824 \\n 0.823529  0.058824  0.058824  0.058824 \\n 0.176471  0.411765  0.058824  0.352941 \\n 0.411765  0.000000  0.000000  0.588235 \\n 0.352941  0.058824  0.000000  0.588235 \\n\\n'), ('lexA', '4', '18', '\\n 0.214286  0.000000  0.000000  0.785714 \\n 0.857143  0.000000  0.071429  0.071429 \\n 0.000000  1.000000  0.000000  0.000000 \\n 0.000000  0.000000  0.000000  1.000000 \\n 0.000000  0.000000  1.000000  0.000000 \\n 0.000000  0.000000  0.000000  1.000000 \\n 0.857143  0.000000  0.071429  0.071429 \\n 0.000000  0.071429  0.000000  0.928571 \\n 0.857143  0.000000  0.071429  0.071429 \\n 0.142857  0.000000  0.000000  0.857143 \\n 0.571429  0.071429  0.214286  0.142857 \\n 0.285714  0.285714  0.000000  0.428571 \\n 1.000000  0.000000  0.000000  0.000000 \\n 0.285714  0.214286  0.000000  0.500000 \\n 0.428571  0.500000  0.000000  0.071429 \\n 0.000000  1.000000  0.000000  0.000000 \\n 1.000000  0.000000  0.000000  0.000000 \\n 0.000000  0.000000  0.785714  0.214286 \\n\\n')]\n"
     ]
    }
   ],
   "source": [
    "meme_matrices = re.compile(\n",
    "    \"MOTIF\\s+(?P<name>\\w+)[.\\n]*\"\n",
    "    + \"letter-probability matrix:\\s+alength=\\s*(?P<num_cols>\\d+)\\s*w=\\s*(?P<num_rows>\\d+).*$\"\n",
    "    + \"(?P<matrix>[\\d\\.\\s]+)+\",\n",
    "    flags=re.MULTILINE)\n",
    "matches = re.findall(meme_matrices, file_contents)\n",
    "print matches"
   ]
  },
  {
   "cell_type": "code",
   "execution_count": 203,
   "metadata": {
    "collapsed": false
   },
   "outputs": [
    {
     "name": "stdout",
     "output_type": "stream",
     "text": [
      "['A 0.303 C 0.183 G 0.209 T 0.306 \\n\\n']\n"
     ]
    }
   ],
   "source": [
    "background_pattern = re.compile(\n",
    "    \"Background letter frequencies.*\\n\"\n",
    "    + \"(?P<background>(?:\\S\\s+[\\d\\.]+\\s+)+)\",\n",
    "    flags=re.MULTILINE)\n",
    "matches = re.findall(background_pattern, file_contents)\n",
    "print matches"
   ]
  },
  {
   "cell_type": "code",
   "execution_count": 200,
   "metadata": {
    "collapsed": false
   },
   "outputs": [
    {
     "name": "stdout",
     "output_type": "stream",
     "text": [
      "MEME version 4\n",
      "\n",
      "ALPHABET= ACGT\n",
      "\n",
      "strands: + -\n",
      "\n",
      "Background letter frequencies\n",
      "A 0.303 C 0.183 G 0.209 T 0.306 \n",
      "\n",
      "MOTIF crp\n",
      "letter-probability matrix: alength= 4 w= 19 nsites= 17 E= 4.1e-009 \n",
      " 0.000000  0.176471  0.000000  0.823529 \n",
      " 0.000000  0.058824  0.647059  0.294118 \n",
      " 0.000000  0.058824  0.000000  0.941176 \n",
      " 0.176471  0.000000  0.764706  0.058824 \n",
      " 0.823529  0.058824  0.000000  0.117647 \n",
      " 0.294118  0.176471  0.176471  0.352941 \n",
      " 0.294118  0.352941  0.235294  0.117647 \n",
      " 0.117647  0.235294  0.352941  0.294118 \n",
      " 0.529412  0.000000  0.176471  0.294118 \n",
      " 0.058824  0.235294  0.588235  0.117647 \n",
      " 0.176471  0.235294  0.294118  0.294118 \n",
      " 0.000000  0.058824  0.117647  0.823529 \n",
      " 0.058824  0.882353  0.000000  0.058824 \n",
      " 0.764706  0.000000  0.176471  0.058824 \n",
      " 0.058824  0.882353  0.000000  0.058824 \n",
      " 0.823529  0.058824  0.058824  0.058824 \n",
      " 0.176471  0.411765  0.058824  0.352941 \n",
      " 0.411765  0.000000  0.000000  0.588235 \n",
      " 0.352941  0.058824  0.000000  0.588235 \n",
      "\n",
      "MOTIF lexA\n",
      "letter-probability matrix: alength= 4 w= 18 nsites= 14 E= 3.2e-035 \n",
      " 0.214286  0.000000  0.000000  0.785714 \n",
      " 0.857143  0.000000  0.071429  0.071429 \n",
      " 0.000000  1.000000  0.000000  0.000000 \n",
      " 0.000000  0.000000  0.000000  1.000000 \n",
      " 0.000000  0.000000  1.000000  0.000000 \n",
      " 0.000000  0.000000  0.000000  1.000000 \n",
      " 0.857143  0.000000  0.071429  0.071429 \n",
      " 0.000000  0.071429  0.000000  0.928571 \n",
      " 0.857143  0.000000  0.071429  0.071429 \n",
      " 0.142857  0.000000  0.000000  0.857143 \n",
      " 0.571429  0.071429  0.214286  0.142857 \n",
      " 0.285714  0.285714  0.000000  0.428571 \n",
      " 1.000000  0.000000  0.000000  0.000000 \n",
      " 0.285714  0.214286  0.000000  0.500000 \n",
      " 0.428571  0.500000  0.000000  0.071429 \n",
      " 0.000000  1.000000  0.000000  0.000000 \n",
      " 1.000000  0.000000  0.000000  0.000000 \n",
      " 0.000000  0.000000  0.785714  0.214286 \n",
      "\n",
      "\n"
     ]
    }
   ],
   "source": [
    "print file_contents"
   ]
  },
  {
   "cell_type": "code",
   "execution_count": 258,
   "metadata": {
    "collapsed": false
   },
   "outputs": [
    {
     "data": {
      "text/plain": [
       "{'crp':            A         C         G         T\n",
       " 0          0  0.176471         0  0.823529\n",
       " 1          0  0.058824  0.647059  0.294118\n",
       " 2          0  0.058824         0  0.941176\n",
       " 3   0.176471         0  0.764706  0.058824\n",
       " 4   0.823529  0.058824         0  0.117647\n",
       " 5   0.294118  0.176471  0.176471  0.352941\n",
       " 6   0.294118  0.352941  0.235294  0.117647\n",
       " 7   0.117647  0.235294  0.352941  0.294118\n",
       " 8   0.529412         0  0.176471  0.294118\n",
       " 9   0.058824  0.235294  0.588235  0.117647\n",
       " 10  0.176471  0.235294  0.294118  0.294118\n",
       " 11         0  0.058824  0.117647  0.823529\n",
       " 12  0.058824  0.882353         0  0.058824\n",
       " 13  0.764706         0  0.176471  0.058824\n",
       " 14  0.058824  0.882353         0  0.058824\n",
       " 15  0.823529  0.058824  0.058824  0.058824\n",
       " 16  0.176471  0.411765  0.058824  0.352941\n",
       " 17  0.411765         0         0  0.588235\n",
       " 18  0.352941  0.058824         0  0.588235,\n",
       " 'lexA':            A         C         G         T\n",
       " 0   0.214286         0         0  0.785714\n",
       " 1   0.857143         0  0.071429  0.071429\n",
       " 2          0         1         0         0\n",
       " 3          0         0         0         1\n",
       " 4          0         0         1         0\n",
       " 5          0         0         0         1\n",
       " 6   0.857143         0  0.071429  0.071429\n",
       " 7          0  0.071429         0  0.928571\n",
       " 8   0.857143         0  0.071429  0.071429\n",
       " 9   0.142857         0         0  0.857143\n",
       " 10  0.571429  0.071429  0.214286  0.142857\n",
       " 11  0.285714  0.285714         0  0.428571\n",
       " 12         1         0         0         0\n",
       " 13  0.285714  0.214286         0       0.5\n",
       " 14  0.428571       0.5         0  0.071429\n",
       " 15         0         1         0         0\n",
       " 16         1         0         0         0\n",
       " 17         0         0  0.785714  0.214286}"
      ]
     },
     "execution_count": 258,
     "metadata": {},
     "output_type": "execute_result"
    }
   ],
   "source": [
    "def parse_meme(file_name, \n",
    "               motif_name=None,\n",
    "               motif_num=None, \n",
    "               get_alphabet=False,\n",
    "               get_background=False, \n",
    "               get_dict=False, \n",
    "               get_list=False):\n",
    "    file_contents = open(file_name).read()\n",
    "    \n",
    "    # Try to parse standard alphabet\n",
    "    meme_alphabet = re.compile('ALPHABET\\s*=\\s*(?P<alphabet>\\S+)', flags=re.MULTILINE)\n",
    "    m = re.search(meme_header, file_contents)\n",
    "    if m:\n",
    "        columns = list(m.group('alphabet'))\n",
    "    else:\n",
    "        # Otherwise, try to parse custom alphabet\n",
    "        meme_alphabet = re.compile('ALPHABET.*\\n(?P<alphabet>(?:.*\\n)+)END ALPHABET', re.MULTILINE)\n",
    "        m = re.search(meme_alphabet, x)\n",
    "        if m:\n",
    "            text = g.group('alphabet')\n",
    "            columns = [l.strip()[0] for l in text.split('\\n') if len(l.strip())>0]\n",
    "        else:\n",
    "            print 'Could not determine alphabet. Returning None.'\n",
    "            return None\n",
    "    if len(columns)==0:\n",
    "        print 'Alphabet has zero length. Returning None.'\n",
    "        return None\n",
    "    \n",
    "    # Parse background\n",
    "    background_pattern = re.compile(\n",
    "        \"Background letter frequencies.*\\n\"\n",
    "        + \"(?P<background>(?:\\S\\s+[\\d\\.]+\\s+)+)\",\n",
    "        flags=re.MULTILINE)\n",
    "    m = re.search(background_pattern, file_contents)\n",
    "    if m:\n",
    "        line = m.group('background')\n",
    "        atoms = line.strip().split()\n",
    "        assert len(atoms)%2==0, 'Error: background line %s has odd number of entries.' % line\n",
    "        keys = atoms[::2]\n",
    "        vals = [float(x) for x in atoms[1::2]]\n",
    "        background_dict = dict(zip(keys,vals))\n",
    "        \n",
    "        # Verify that keys match alphabet\n",
    "        assert set(keys)==set(columns), 'Error: background kesy %s do not match alphabet %s' %\\\n",
    "            (repr(keys),repr(columns))\n",
    "    else:\n",
    "        background_dict = None\n",
    "        \n",
    "    # Parse matrices\n",
    "    meme_matrices = re.compile(\n",
    "        \"MOTIF\\s+(?P<name>.*)\\n[.\\n]*\"\n",
    "        + \"letter-probability matrix:\\s+alength=\\s*(?P<num_cols>\\d+)\\s*w=\\s*(?P<num_rows>\\d+).*$\"\n",
    "        + \"(?P<matrix>[\\d\\.\\s]+)+\",\n",
    "        flags=re.MULTILINE)\n",
    "    matches = re.finditer(meme_matrices, file_contents)\n",
    "    if not matches:\n",
    "        print 'Could not find any motifs in file. Returning None.'\n",
    "        return None\n",
    "\n",
    "    matrix_dict = {}\n",
    "    matrix_list = []\n",
    "    for m in matches:\n",
    "        \n",
    "        # Extract information from pattern\n",
    "        name = m.group('name').strip()\n",
    "        matrix_str = m.group('matrix')\n",
    "        num_cols = int(m.group('num_cols'))\n",
    "        num_rows = int(m.group('num_rows'))\n",
    "        \n",
    "        # Check number of columns\n",
    "        assert len(columns)==num_cols\n",
    "        \n",
    "        # Set indices\n",
    "        indices = range(num_rows)\n",
    "        \n",
    "        # Fill in matrix\n",
    "        matrix = pd.DataFrame(index=indices, columns=columns)\n",
    "        matrix_lines = [line.strip() for line in matrix_str.split('\\n') if len(line.strip())>0]\n",
    "        for i, line in enumerate(matrix_lines):\n",
    "            entries = [float(x) for x in line.split()]\n",
    "            assert len(entries)==num_cols, \\\n",
    "                'Error: %d entries does not match %d columns' % \\\n",
    "                    (len(entries),num_cols)\n",
    "            matrix.loc[i,:] = entries\n",
    "            \n",
    "        # Check number of rows\n",
    "        assert len(matrix)==num_rows\n",
    "        \n",
    "        # Record matrix\n",
    "        matrix_dict[name] = matrix\n",
    "        matrix_list.append(matrix)\n",
    "    \n",
    "    ### Figure out what to return\n",
    "    \n",
    "    # get_alphabet\n",
    "    if get_alphabet:\n",
    "        return columns\n",
    "    \n",
    "    # get_background\n",
    "    if get_background:\n",
    "        if background_dict is not None:\n",
    "            return background_dict\n",
    "        else:\n",
    "            print 'Could not find background line in file. Returning None.'\n",
    "            return None\n",
    "    \n",
    "    # get_motif_dict\n",
    "    elif get_dict:\n",
    "        if len(matrix_dict)>0:\n",
    "            return matrix_dict\n",
    "        else:\n",
    "            print 'Could not parse any motifs. Returning None.'\n",
    "            \n",
    "    # get_motif_list\n",
    "    elif get_list:\n",
    "        if len(matrix_list)>0:\n",
    "            return matrix_list\n",
    "        else:\n",
    "            print 'Could not parse any motifs. Returning None.'\n",
    "    \n",
    "    # only return the requested motif by name\n",
    "    elif motif_name is not None:\n",
    "        if not motif_name in matrix_dict:\n",
    "            print 'Could not find motif of name %s. Returning None.'%motif_name\n",
    "            return None\n",
    "        else:\n",
    "            return matrix_dict[motif_name]\n",
    "        \n",
    "    # only return the requested motif by number\n",
    "    elif motif_num is not None:\n",
    "        if len(matrix_list) < motif_num:\n",
    "            print 'Could not find motif number %d. Returning None.'%motif_num\n",
    "            return None\n",
    "        else:\n",
    "            return matrix_list[motif_num-1]\n",
    "        \n",
    "    else:\n",
    "        assert False, 'This shouldnt happen'\n",
    "        \n",
    "\n",
    "parse_meme('data/meme_example.txt', get_dict=True)"
   ]
  },
  {
   "cell_type": "code",
   "execution_count": null,
   "metadata": {
    "collapsed": true
   },
   "outputs": [],
   "source": []
  }
 ],
 "metadata": {
  "kernelspec": {
   "display_name": "Python 2",
   "language": "python",
   "name": "python2"
  },
  "language_info": {
   "codemirror_mode": {
    "name": "ipython",
    "version": 2
   },
   "file_extension": ".py",
   "mimetype": "text/x-python",
   "name": "python",
   "nbconvert_exporter": "python",
   "pygments_lexer": "ipython2",
   "version": "2.7.11"
  }
 },
 "nbformat": 4,
 "nbformat_minor": 0
}
